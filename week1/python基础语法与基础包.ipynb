{
 "cells": [
  {
   "cell_type": "markdown",
   "metadata": {},
   "source": [
    "#### 循环语法\n",
    "###### break&continue&pass\n",
    "* 说明：比较可惜，之前的代码和文档被删除了，不愿意重新更新了\n",
    "* break:跳出最近的循环\n",
    "* continue:不继续执行循环内后续的语句，直接开始下一次循环\n",
    "* pass:表示啥都不执行，一般出现在需要代码但是没有什么需要执行的模块中\n",
    "\n",
    "\n",
    "\n"
   ]
  },
  {
   "cell_type": "code",
   "execution_count": 5,
   "metadata": {},
   "outputs": [
    {
     "name": "stdout",
     "output_type": "stream",
     "text": [
      "i equals: 2\n",
      "i equals: 3\n",
      "x equals: 2\n",
      "3 <> 2\n",
      "i equals: 4\n",
      "x equals: 2\n",
      "4 = 2\n",
      "i equals: 5\n",
      "x equals: 2\n",
      "5 <> 2\n",
      "x equals: 3\n",
      "5 <> 3\n",
      "x equals: 4\n",
      "5 <> 4\n",
      "i equals: 6\n",
      "x equals: 2\n",
      "6 = 2\n",
      "i equals: 7\n",
      "x equals: 2\n",
      "7 <> 2\n",
      "x equals: 3\n",
      "7 <> 3\n",
      "x equals: 4\n",
      "7 <> 4\n",
      "x equals: 5\n",
      "7 <> 5\n",
      "x equals: 6\n",
      "7 <> 6\n",
      "i equals: 8\n",
      "x equals: 2\n",
      "8 = 2\n",
      "i equals: 9\n",
      "x equals: 2\n",
      "9 <> 2\n",
      "x equals: 3\n",
      "9 = 3\n",
      "i是2的倍数，直接跳到下一次循环 2\n",
      "i不是2的倍数，执行打印，未跳过本次循环 3\n",
      "i是2的倍数，直接跳到下一次循环 4\n",
      "i不是2的倍数，执行打印，未跳过本次循环 5\n",
      "i是2的倍数，直接跳到下一次循环 6\n",
      "i不是2的倍数，执行打印，未跳过本次循环 7\n",
      "i是2的倍数，直接跳到下一次循环 8\n",
      "i不是2的倍数，执行打印，未跳过本次循环 9\n"
     ]
    }
   ],
   "source": [
    "for i in range(2,10):\n",
    "    print('i equals:',i)\n",
    "    for x in range(2,i):\n",
    "        print('x equals:',x)\n",
    "        if i%x==0:\n",
    "            print(i,'=',x)\n",
    "            break\n",
    "        else:\n",
    "            print(i,'<>',x)\n",
    "            \n",
    "for i in range(2,10):\n",
    "    if i%2==0:\n",
    "        print('i是2的倍数，直接跳到下一次循环',i)\n",
    "        continue\n",
    "    print('i不是2的倍数，执行打印，未跳过本次循环',i)"
   ]
  },
  {
   "cell_type": "markdown",
   "metadata": {},
   "source": [
    "#### 自定义函数\n",
    "* 规范：参数不是必须，可以设定默认参数，return不是必须；如果参数是单值参数，默认参数值只在函数域内有效，如果参数是list参数，在函数内部对这个参数发生了修改，默认的参数会发生变化；如果不想参数发生变化，可以默认list为none，在函数内指定；函数调用时可以指定参数名调用也可以不指定参数名调用，默认参数可不传参，如果默认参数有多个参数是同一个数据类型，要么指定参数名传参，要么几个默认参数同时都传；函数的参数还可以有以下两种形式*name表示传递的是一个元祖，**name表示传入的是字典,**name必须出现在*name之后，*name可以传入list或者tuple;python中函数如果参数有指定默认值和不指定默认值几种，那么不指定默认值的参数要放在指定默认值的参数前面\n",
    "\n",
    "** def function_name([arg1],[arg2],……):\n",
    "    ** do\n",
    "    ** [return rtn1,rtn2,rtn3,……]\n",
    "* 匿名函数:lambda表达，lambda 后面带的是函数的参数，：后带的是函数计算模块,只能有一行逻辑，就是lambda x,y,z……=f(x,y,z,arg1……)，return 可以直接在lambda前，也可以另外返回\n",
    "* 函数说明：用注释符注释掉，第一行一般都是简短的函数介绍，第二行是空行，接下来是函数的调用方法说明\n",
    "* 函数注释：用于对参数的注释，通过在参数后面加：的方式注释，注释的内容是任意类型，函数定义完成后需要添加->str，这里的str还是float等取决return的是什么类型，注释不影响参数其他的使用，参数的注释保存在函数的__annotations__属性中\n",
    "* python规范：\n",
    "** 不用tab，用四个空格\n",
    "** 注释放在代码同一行\n",
    "** 使用docstrings\n",
    "** 通过空行分割函数和类、函数内部大的块\n",
    "** 每行代码不要超过79个字符\n",
    "** 编写代码注意使用空格，让代码看起来清晰\n",
    "** 使用驼峰命名类，使用_命名函数或者方法\n",
    "** 使用utf-8编码，# -*- coding: utf-8 -*-\n",
    "** 不要使用非ascii标识符"
   ]
  },
  {
   "cell_type": "code",
   "execution_count": 30,
   "metadata": {
    "scrolled": true
   },
   "outputs": [
    {
     "name": "stdout",
     "output_type": "stream",
     "text": [
      "15\n",
      "[1]\n",
      "[1, 2]\n",
      "[1, 2, 3]\n",
      "None\n",
      "None\n",
      "None\n",
      "wuqian score is 90\n",
      "daiyingchao score is 80\n",
      "15\n",
      "[1]\n",
      "daiyingchao:90\n"
     ]
    },
    {
     "data": {
      "text/plain": [
       "{'name': 'name', 'return': str, 'score': (0, 100)}"
      ]
     },
     "execution_count": 30,
     "metadata": {},
     "output_type": "execute_result"
    }
   ],
   "source": [
    "\n",
    "def f(a=10):\n",
    "    a=a+10\n",
    "    return a\n",
    "def f(a=10):\n",
    "    a=15\n",
    "    return a\n",
    "print(f())\n",
    "def f(i,a=[]):\n",
    "    a.append(i)\n",
    "    return a\n",
    "print(f(1))\n",
    "print(f(2))\n",
    "print(f(3))\n",
    "def f(i,a=None):\n",
    "    if a is None:\n",
    "        a=[]\n",
    "    a.append(i)\n",
    "    return a\n",
    "def f(i,a=None):\n",
    "    if a is None:\n",
    "        a=[]\n",
    "    return a.append(i)\n",
    "print(f(1))\n",
    "print(f(2))\n",
    "print(f(3))\n",
    "def f(i,*name,**score):\n",
    "    for n in name:\n",
    "        print(n,'score is',score[n])\n",
    "f(5,\"wuqian\",\"daiyingchao\",wuqian=90,daiyingchao=80,lining=30)\n",
    "args=['wuqian','daiyingchao','zhengziyao']\n",
    "def f(*name,sep='/'):\n",
    "    sep=sep.join(name)\n",
    "    return sep\n",
    "f(*args)\n",
    "def f(n):\n",
    "    m=lambda x,y,z:x*y+z+n\n",
    "    return m\n",
    "a=f(10)\n",
    "print(a(1,2,3))\n",
    "a=[]\n",
    "a.append(1)\n",
    "print(a)\n",
    "def anno(name: 'name' ,score: (0,100)=10) -> str:\n",
    "    return name+':'+str(score)\n",
    "print(anno('daiyingchao',90))\n",
    "anno.__annotations__"
   ]
  },
  {
   "cell_type": "markdown",
   "metadata": {},
   "source": []
  },
  {
   "cell_type": "markdown",
   "metadata": {},
   "source": [
    "#### 疑问\n",
    "###### Q1：sequence有哪些类型？\n",
    "###### Q2:为什么调用下列函数返回的是None\n",
    "def f(i,a=None):\n",
    "    if a is None:\n",
    "        a=[]\n",
    "    return a.append(i)\n",
    "print(f(1))\n"
   ]
  },
  {
   "cell_type": "code",
   "execution_count": null,
   "metadata": {},
   "outputs": [],
   "source": []
  },
  {
   "cell_type": "code",
   "execution_count": null,
   "metadata": {},
   "outputs": [],
   "source": []
  }
 ],
 "metadata": {
  "kernelspec": {
   "display_name": "Python 3",
   "language": "python",
   "name": "python3"
  },
  "language_info": {
   "codemirror_mode": {
    "name": "ipython",
    "version": 3
   },
   "file_extension": ".py",
   "mimetype": "text/x-python",
   "name": "python",
   "nbconvert_exporter": "python",
   "pygments_lexer": "ipython3",
   "version": "3.5.2"
  }
 },
 "nbformat": 4,
 "nbformat_minor": 2
}
